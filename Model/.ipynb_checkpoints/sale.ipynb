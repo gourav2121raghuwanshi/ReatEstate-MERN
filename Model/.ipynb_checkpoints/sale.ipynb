{
 "cells": [
  {
   "cell_type": "code",
   "execution_count": 2,
   "id": "e6f74e23-3394-4592-a468-7e08de69e3a8",
   "metadata": {},
   "outputs": [
    {
     "data": {
      "text/html": [
       "<div>\n",
       "<style scoped>\n",
       "    .dataframe tbody tr th:only-of-type {\n",
       "        vertical-align: middle;\n",
       "    }\n",
       "\n",
       "    .dataframe tbody tr th {\n",
       "        vertical-align: top;\n",
       "    }\n",
       "\n",
       "    .dataframe thead th {\n",
       "        text-align: right;\n",
       "    }\n",
       "</style>\n",
       "<table border=\"1\" class=\"dataframe\">\n",
       "  <thead>\n",
       "    <tr style=\"text-align: right;\">\n",
       "      <th></th>\n",
       "      <th>Title (Address)</th>\n",
       "      <th>Area (sq-ft)</th>\n",
       "      <th>Price (Cr)</th>\n",
       "    </tr>\n",
       "  </thead>\n",
       "  <tbody>\n",
       "    <tr>\n",
       "      <th>0</th>\n",
       "      <td>2 BHK Flat for Sale in Promont By Sheth Realty...</td>\n",
       "      <td>684 sqft</td>\n",
       "      <td>₹\\r\\n2.07 Cr</td>\n",
       "    </tr>\n",
       "    <tr>\n",
       "      <th>1</th>\n",
       "      <td>2 BHK Flat for Sale in The Dynamix Luma, Andhe...</td>\n",
       "      <td>735 sqft</td>\n",
       "      <td>₹\\r\\n2.50 Cr</td>\n",
       "    </tr>\n",
       "    <tr>\n",
       "      <th>2</th>\n",
       "      <td>2 BHK Flat for Sale in Dream Aspire, Andheri W...</td>\n",
       "      <td>713 sqft</td>\n",
       "      <td>₹\\r\\n2.38 Cr</td>\n",
       "    </tr>\n",
       "    <tr>\n",
       "      <th>3</th>\n",
       "      <td>2 BHK Flat for Sale in Vihang Luxuria, Mira Ro...</td>\n",
       "      <td>684 sqft</td>\n",
       "      <td>₹\\r\\n1.21 Cr</td>\n",
       "    </tr>\n",
       "    <tr>\n",
       "      <th>4</th>\n",
       "      <td>2 BHK Flat for Sale in RNA NG Grand Empire, Na...</td>\n",
       "      <td>580 sqft</td>\n",
       "      <td>₹\\r\\n1.11 Cr</td>\n",
       "    </tr>\n",
       "  </tbody>\n",
       "</table>\n",
       "</div>"
      ],
      "text/plain": [
       "                                     Title (Address) Area (sq-ft)  \\\n",
       "0  2 BHK Flat for Sale in Promont By Sheth Realty...     684 sqft   \n",
       "1  2 BHK Flat for Sale in The Dynamix Luma, Andhe...     735 sqft   \n",
       "2  2 BHK Flat for Sale in Dream Aspire, Andheri W...     713 sqft   \n",
       "3  2 BHK Flat for Sale in Vihang Luxuria, Mira Ro...     684 sqft   \n",
       "4  2 BHK Flat for Sale in RNA NG Grand Empire, Na...     580 sqft   \n",
       "\n",
       "     Price (Cr)  \n",
       "0  ₹\\r\\n2.07 Cr  \n",
       "1  ₹\\r\\n2.50 Cr  \n",
       "2  ₹\\r\\n2.38 Cr  \n",
       "3  ₹\\r\\n1.21 Cr  \n",
       "4  ₹\\r\\n1.11 Cr  "
      ]
     },
     "execution_count": 2,
     "metadata": {},
     "output_type": "execute_result"
    }
   ],
   "source": [
    "import pandas as pd\n",
    "sale=pd.read_csv('merged_sale_housing_data.csv')\n",
    "sale.head()"
   ]
  },
  {
   "cell_type": "code",
   "execution_count": 2,
   "id": "a042a752-541d-40ec-aef3-2cac4e374a9f",
   "metadata": {},
   "outputs": [
    {
     "data": {
      "text/plain": [
       "(4800, 3)"
      ]
     },
     "execution_count": 2,
     "metadata": {},
     "output_type": "execute_result"
    }
   ],
   "source": [
    "sale.shape"
   ]
  },
  {
   "cell_type": "code",
   "execution_count": 3,
   "id": "a0e182fb-5dbf-4f1d-9a70-8a29c7789f7d",
   "metadata": {},
   "outputs": [],
   "source": [
    "def convert_to_sqft(area):\n",
    "    try:\n",
    "        parts = area.split()  \n",
    "        if len(parts) != 2:\n",
    "            raise ValueError(\"Malformed input\")  \n",
    "        \n",
    "        value, unit = parts\n",
    "        value = float(value) \n",
    "        \n",
    "        # Conversion logic\n",
    "        if unit == 'sqm':\n",
    "            return round(value * 10.7639)  # Convert sqm to sq-ft\n",
    "        elif unit == 'sqyrd':\n",
    "            return round(value * 9)  # Convert sqyrd to sq-ft\n",
    "        elif unit == 'sqft':\n",
    "            return round(value)  # Already in sq-ft\n",
    "        else:\n",
    "            raise ValueError(f\"Unknown unit: {unit}\")  \n",
    "    except Exception:\n",
    "        return None  \n",
    "\n",
    "sale['Area (sq-ft)'] = sale['Area (sq-ft)'].apply(convert_to_sqft)\n",
    "sale.dropna(subset=['Area (sq-ft)'], inplace=True)  \n"
   ]
  },
  {
   "cell_type": "code",
   "execution_count": 4,
   "id": "84bec893-971a-4cfd-b6e4-f769295428e3",
   "metadata": {},
   "outputs": [
    {
     "data": {
      "text/plain": [
       "Title (Address)    0\n",
       "Area (sq-ft)       0\n",
       "Price (Cr)         0\n",
       "dtype: int64"
      ]
     },
     "execution_count": 4,
     "metadata": {},
     "output_type": "execute_result"
    }
   ],
   "source": [
    "sale.isnull().sum()"
   ]
  },
  {
   "cell_type": "code",
   "execution_count": 6,
   "id": "572d3ada-e630-4578-bc7f-dddc9dd5863f",
   "metadata": {},
   "outputs": [
    {
     "data": {
      "text/plain": [
       "(4789, 3)"
      ]
     },
     "execution_count": 6,
     "metadata": {},
     "output_type": "execute_result"
    }
   ],
   "source": [
    "sale.shape"
   ]
  },
  {
   "cell_type": "code",
   "execution_count": 3,
   "id": "4286b228-d06a-4281-9711-fb1ec3e62ca0",
   "metadata": {},
   "outputs": [
    {
     "data": {
      "text/html": [
       "<div>\n",
       "<style scoped>\n",
       "    .dataframe tbody tr th:only-of-type {\n",
       "        vertical-align: middle;\n",
       "    }\n",
       "\n",
       "    .dataframe tbody tr th {\n",
       "        vertical-align: top;\n",
       "    }\n",
       "\n",
       "    .dataframe thead th {\n",
       "        text-align: right;\n",
       "    }\n",
       "</style>\n",
       "<table border=\"1\" class=\"dataframe\">\n",
       "  <thead>\n",
       "    <tr style=\"text-align: right;\">\n",
       "      <th></th>\n",
       "      <th>Title (Address)</th>\n",
       "      <th>Area (sq-ft)</th>\n",
       "      <th>Price (Cr)</th>\n",
       "    </tr>\n",
       "  </thead>\n",
       "  <tbody>\n",
       "    <tr>\n",
       "      <th>0</th>\n",
       "      <td>2 BHK Flat for Sale in Promont By Sheth Realty...</td>\n",
       "      <td>684 sqft</td>\n",
       "      <td>₹\\r\\n2.07 Cr</td>\n",
       "    </tr>\n",
       "    <tr>\n",
       "      <th>1</th>\n",
       "      <td>2 BHK Flat for Sale in The Dynamix Luma, Andhe...</td>\n",
       "      <td>735 sqft</td>\n",
       "      <td>₹\\r\\n2.50 Cr</td>\n",
       "    </tr>\n",
       "    <tr>\n",
       "      <th>2</th>\n",
       "      <td>2 BHK Flat for Sale in Dream Aspire, Andheri W...</td>\n",
       "      <td>713 sqft</td>\n",
       "      <td>₹\\r\\n2.38 Cr</td>\n",
       "    </tr>\n",
       "    <tr>\n",
       "      <th>3</th>\n",
       "      <td>2 BHK Flat for Sale in Vihang Luxuria, Mira Ro...</td>\n",
       "      <td>684 sqft</td>\n",
       "      <td>₹\\r\\n1.21 Cr</td>\n",
       "    </tr>\n",
       "    <tr>\n",
       "      <th>4</th>\n",
       "      <td>2 BHK Flat for Sale in RNA NG Grand Empire, Na...</td>\n",
       "      <td>580 sqft</td>\n",
       "      <td>₹\\r\\n1.11 Cr</td>\n",
       "    </tr>\n",
       "  </tbody>\n",
       "</table>\n",
       "</div>"
      ],
      "text/plain": [
       "                                     Title (Address) Area (sq-ft)  \\\n",
       "0  2 BHK Flat for Sale in Promont By Sheth Realty...     684 sqft   \n",
       "1  2 BHK Flat for Sale in The Dynamix Luma, Andhe...     735 sqft   \n",
       "2  2 BHK Flat for Sale in Dream Aspire, Andheri W...     713 sqft   \n",
       "3  2 BHK Flat for Sale in Vihang Luxuria, Mira Ro...     684 sqft   \n",
       "4  2 BHK Flat for Sale in RNA NG Grand Empire, Na...     580 sqft   \n",
       "\n",
       "     Price (Cr)  \n",
       "0  ₹\\r\\n2.07 Cr  \n",
       "1  ₹\\r\\n2.50 Cr  \n",
       "2  ₹\\r\\n2.38 Cr  \n",
       "3  ₹\\r\\n1.21 Cr  \n",
       "4  ₹\\r\\n1.11 Cr  "
      ]
     },
     "execution_count": 3,
     "metadata": {},
     "output_type": "execute_result"
    }
   ],
   "source": [
    "sale.head()"
   ]
  },
  {
   "cell_type": "code",
   "execution_count": 8,
   "id": "54cd62d1-5311-4128-9427-85f32ba41c75",
   "metadata": {},
   "outputs": [],
   "source": [
    "def convert_price(price):\n",
    "    try:\n",
    "        price = price.replace('₹\\r\\n', '').strip()  \n",
    "        if 'Cr' in price:\n",
    "            value = float(price.replace('Cr', '').strip()) \n",
    "            return int(value * 10000000) \n",
    "        elif 'Lac' in price:\n",
    "            value = float(price.replace('Lac', '').strip())  \n",
    "            return int(value * 100000)\n",
    "        else:\n",
    "            raise ValueError(\"Unknown format\") \n",
    "    except Exception as e:\n",
    "        print(f\"Error processing price: {price}, Error: {e}\")\n",
    "        return None  \n",
    "\n",
    "sale['Price (Cr)'] = sale['Price (Cr)'].apply(convert_price)\n"
   ]
  },
  {
   "cell_type": "code",
   "execution_count": 9,
   "id": "bfec2f3e-12b6-4c88-a7c1-346a4d6c4353",
   "metadata": {},
   "outputs": [
    {
     "data": {
      "text/html": [
       "<div>\n",
       "<style scoped>\n",
       "    .dataframe tbody tr th:only-of-type {\n",
       "        vertical-align: middle;\n",
       "    }\n",
       "\n",
       "    .dataframe tbody tr th {\n",
       "        vertical-align: top;\n",
       "    }\n",
       "\n",
       "    .dataframe thead th {\n",
       "        text-align: right;\n",
       "    }\n",
       "</style>\n",
       "<table border=\"1\" class=\"dataframe\">\n",
       "  <thead>\n",
       "    <tr style=\"text-align: right;\">\n",
       "      <th></th>\n",
       "      <th>Title (Address)</th>\n",
       "      <th>Area (sq-ft)</th>\n",
       "      <th>Price (Cr)</th>\n",
       "    </tr>\n",
       "  </thead>\n",
       "  <tbody>\n",
       "    <tr>\n",
       "      <th>0</th>\n",
       "      <td>2 BHK Flat for Sale in Promont By Sheth Realty...</td>\n",
       "      <td>684.0</td>\n",
       "      <td>20700000</td>\n",
       "    </tr>\n",
       "    <tr>\n",
       "      <th>1</th>\n",
       "      <td>2 BHK Flat for Sale in The Dynamix Luma, Andhe...</td>\n",
       "      <td>735.0</td>\n",
       "      <td>25000000</td>\n",
       "    </tr>\n",
       "    <tr>\n",
       "      <th>2</th>\n",
       "      <td>2 BHK Flat for Sale in Dream Aspire, Andheri W...</td>\n",
       "      <td>713.0</td>\n",
       "      <td>23800000</td>\n",
       "    </tr>\n",
       "    <tr>\n",
       "      <th>3</th>\n",
       "      <td>2 BHK Flat for Sale in Vihang Luxuria, Mira Ro...</td>\n",
       "      <td>684.0</td>\n",
       "      <td>12100000</td>\n",
       "    </tr>\n",
       "    <tr>\n",
       "      <th>4</th>\n",
       "      <td>2 BHK Flat for Sale in RNA NG Grand Empire, Na...</td>\n",
       "      <td>580.0</td>\n",
       "      <td>11100000</td>\n",
       "    </tr>\n",
       "  </tbody>\n",
       "</table>\n",
       "</div>"
      ],
      "text/plain": [
       "                                     Title (Address)  Area (sq-ft)  Price (Cr)\n",
       "0  2 BHK Flat for Sale in Promont By Sheth Realty...         684.0    20700000\n",
       "1  2 BHK Flat for Sale in The Dynamix Luma, Andhe...         735.0    25000000\n",
       "2  2 BHK Flat for Sale in Dream Aspire, Andheri W...         713.0    23800000\n",
       "3  2 BHK Flat for Sale in Vihang Luxuria, Mira Ro...         684.0    12100000\n",
       "4  2 BHK Flat for Sale in RNA NG Grand Empire, Na...         580.0    11100000"
      ]
     },
     "execution_count": 9,
     "metadata": {},
     "output_type": "execute_result"
    }
   ],
   "source": [
    "sale.head(5)"
   ]
  },
  {
   "cell_type": "code",
   "execution_count": 10,
   "id": "d3bde8fe-1211-4a20-acd6-aaa721d8b18c",
   "metadata": {},
   "outputs": [
    {
     "data": {
      "text/plain": [
       "Title (Address)    0\n",
       "Area (sq-ft)       0\n",
       "Price (Cr)         0\n",
       "dtype: int64"
      ]
     },
     "execution_count": 10,
     "metadata": {},
     "output_type": "execute_result"
    }
   ],
   "source": [
    "sale.isnull().sum()"
   ]
  },
  {
   "cell_type": "code",
   "execution_count": 11,
   "id": "4b820eba-2b7d-46dc-b44c-f967f3f17fcf",
   "metadata": {},
   "outputs": [],
   "source": [
    "def extract_bhk_and_clean_title(title):\n",
    "    import re\n",
    "    bhk_match = re.search(r'(\\d+)\\s+BHK', title)  \n",
    "    if bhk_match:\n",
    "        bhk = int(bhk_match.group(1)) \n",
    "        title = re.sub(r'\\d+\\s+BHK', '', title).strip()  \n",
    "        return bhk, title\n",
    "    return None, title \n",
    "\n",
    "sale[['bhk', 'Title (Address)']] = sale['Title (Address)'].apply(\n",
    "    lambda x: pd.Series(extract_bhk_and_clean_title(x))\n",
    ")"
   ]
  },
  {
   "cell_type": "code",
   "execution_count": 12,
   "id": "5fa7c5ce-291f-4539-9da2-7e00f535aa83",
   "metadata": {},
   "outputs": [
    {
     "data": {
      "text/html": [
       "<div>\n",
       "<style scoped>\n",
       "    .dataframe tbody tr th:only-of-type {\n",
       "        vertical-align: middle;\n",
       "    }\n",
       "\n",
       "    .dataframe tbody tr th {\n",
       "        vertical-align: top;\n",
       "    }\n",
       "\n",
       "    .dataframe thead th {\n",
       "        text-align: right;\n",
       "    }\n",
       "</style>\n",
       "<table border=\"1\" class=\"dataframe\">\n",
       "  <thead>\n",
       "    <tr style=\"text-align: right;\">\n",
       "      <th></th>\n",
       "      <th>Title (Address)</th>\n",
       "      <th>Area (sq-ft)</th>\n",
       "      <th>Price (Cr)</th>\n",
       "      <th>bhk</th>\n",
       "    </tr>\n",
       "  </thead>\n",
       "  <tbody>\n",
       "    <tr>\n",
       "      <th>0</th>\n",
       "      <td>Flat for Sale in Promont By Sheth Realty and A...</td>\n",
       "      <td>684.0</td>\n",
       "      <td>20700000</td>\n",
       "      <td>2</td>\n",
       "    </tr>\n",
       "    <tr>\n",
       "      <th>1</th>\n",
       "      <td>Flat for Sale in The Dynamix Luma, Andheri Eas...</td>\n",
       "      <td>735.0</td>\n",
       "      <td>25000000</td>\n",
       "      <td>2</td>\n",
       "    </tr>\n",
       "    <tr>\n",
       "      <th>2</th>\n",
       "      <td>Flat for Sale in Dream Aspire, Andheri West, M...</td>\n",
       "      <td>713.0</td>\n",
       "      <td>23800000</td>\n",
       "      <td>2</td>\n",
       "    </tr>\n",
       "    <tr>\n",
       "      <th>3</th>\n",
       "      <td>Flat for Sale in Vihang Luxuria, Mira Road Eas...</td>\n",
       "      <td>684.0</td>\n",
       "      <td>12100000</td>\n",
       "      <td>2</td>\n",
       "    </tr>\n",
       "    <tr>\n",
       "      <th>4</th>\n",
       "      <td>Flat for Sale in RNA NG Grand Empire, Navghar ...</td>\n",
       "      <td>580.0</td>\n",
       "      <td>11100000</td>\n",
       "      <td>2</td>\n",
       "    </tr>\n",
       "  </tbody>\n",
       "</table>\n",
       "</div>"
      ],
      "text/plain": [
       "                                     Title (Address)  Area (sq-ft)  \\\n",
       "0  Flat for Sale in Promont By Sheth Realty and A...         684.0   \n",
       "1  Flat for Sale in The Dynamix Luma, Andheri Eas...         735.0   \n",
       "2  Flat for Sale in Dream Aspire, Andheri West, M...         713.0   \n",
       "3  Flat for Sale in Vihang Luxuria, Mira Road Eas...         684.0   \n",
       "4  Flat for Sale in RNA NG Grand Empire, Navghar ...         580.0   \n",
       "\n",
       "   Price (Cr)  bhk  \n",
       "0    20700000    2  \n",
       "1    25000000    2  \n",
       "2    23800000    2  \n",
       "3    12100000    2  \n",
       "4    11100000    2  "
      ]
     },
     "execution_count": 12,
     "metadata": {},
     "output_type": "execute_result"
    }
   ],
   "source": [
    "sale.head()"
   ]
  },
  {
   "cell_type": "code",
   "execution_count": 13,
   "id": "1334cb21-4dc8-4d7a-9e52-5843e18daf50",
   "metadata": {},
   "outputs": [
    {
     "name": "stdout",
     "output_type": "stream",
     "text": [
      "[2 3 4 5 1]\n"
     ]
    }
   ],
   "source": [
    "a=sale['bhk'].unique()\n",
    "print(a)"
   ]
  },
  {
   "cell_type": "code",
   "execution_count": 14,
   "id": "49619932-bdae-4654-ab8c-a40b8232a39d",
   "metadata": {},
   "outputs": [],
   "source": [
    "def extract_city(address):\n",
    "    parts = address.split(\",\")\n",
    "    city = parts[-1].strip() if parts else \"\"\n",
    "    \n",
    "    if city == \"New Delhi\":\n",
    "        return \"New Delhi\"\n",
    "    elif city == \"Delhi Ncr\":\n",
    "        return \"Delhi Ncr\"\n",
    "    \n",
    "    return city.split()[-1] \n",
    "\n",
    "sale['city'] = sale['Title (Address)'].apply(extract_city)\n",
    "\n"
   ]
  },
  {
   "cell_type": "code",
   "execution_count": 15,
   "id": "d21f16dd-5f9d-4020-b4f5-a82df4d1a692",
   "metadata": {},
   "outputs": [
    {
     "data": {
      "text/html": [
       "<div>\n",
       "<style scoped>\n",
       "    .dataframe tbody tr th:only-of-type {\n",
       "        vertical-align: middle;\n",
       "    }\n",
       "\n",
       "    .dataframe tbody tr th {\n",
       "        vertical-align: top;\n",
       "    }\n",
       "\n",
       "    .dataframe thead th {\n",
       "        text-align: right;\n",
       "    }\n",
       "</style>\n",
       "<table border=\"1\" class=\"dataframe\">\n",
       "  <thead>\n",
       "    <tr style=\"text-align: right;\">\n",
       "      <th></th>\n",
       "      <th>Title (Address)</th>\n",
       "      <th>Area (sq-ft)</th>\n",
       "      <th>Price (Cr)</th>\n",
       "      <th>bhk</th>\n",
       "      <th>city</th>\n",
       "    </tr>\n",
       "  </thead>\n",
       "  <tbody>\n",
       "    <tr>\n",
       "      <th>0</th>\n",
       "      <td>Flat for Sale in Promont By Sheth Realty and A...</td>\n",
       "      <td>684.0</td>\n",
       "      <td>20700000</td>\n",
       "      <td>2</td>\n",
       "      <td>Mumbai</td>\n",
       "    </tr>\n",
       "    <tr>\n",
       "      <th>1</th>\n",
       "      <td>Flat for Sale in The Dynamix Luma, Andheri Eas...</td>\n",
       "      <td>735.0</td>\n",
       "      <td>25000000</td>\n",
       "      <td>2</td>\n",
       "      <td>Mumbai</td>\n",
       "    </tr>\n",
       "    <tr>\n",
       "      <th>2</th>\n",
       "      <td>Flat for Sale in Dream Aspire, Andheri West, M...</td>\n",
       "      <td>713.0</td>\n",
       "      <td>23800000</td>\n",
       "      <td>2</td>\n",
       "      <td>Mumbai</td>\n",
       "    </tr>\n",
       "    <tr>\n",
       "      <th>3</th>\n",
       "      <td>Flat for Sale in Vihang Luxuria, Mira Road Eas...</td>\n",
       "      <td>684.0</td>\n",
       "      <td>12100000</td>\n",
       "      <td>2</td>\n",
       "      <td>Mumbai</td>\n",
       "    </tr>\n",
       "    <tr>\n",
       "      <th>4</th>\n",
       "      <td>Flat for Sale in RNA NG Grand Empire, Navghar ...</td>\n",
       "      <td>580.0</td>\n",
       "      <td>11100000</td>\n",
       "      <td>2</td>\n",
       "      <td>Mumbai</td>\n",
       "    </tr>\n",
       "  </tbody>\n",
       "</table>\n",
       "</div>"
      ],
      "text/plain": [
       "                                     Title (Address)  Area (sq-ft)  \\\n",
       "0  Flat for Sale in Promont By Sheth Realty and A...         684.0   \n",
       "1  Flat for Sale in The Dynamix Luma, Andheri Eas...         735.0   \n",
       "2  Flat for Sale in Dream Aspire, Andheri West, M...         713.0   \n",
       "3  Flat for Sale in Vihang Luxuria, Mira Road Eas...         684.0   \n",
       "4  Flat for Sale in RNA NG Grand Empire, Navghar ...         580.0   \n",
       "\n",
       "   Price (Cr)  bhk    city  \n",
       "0    20700000    2  Mumbai  \n",
       "1    25000000    2  Mumbai  \n",
       "2    23800000    2  Mumbai  \n",
       "3    12100000    2  Mumbai  \n",
       "4    11100000    2  Mumbai  "
      ]
     },
     "execution_count": 15,
     "metadata": {},
     "output_type": "execute_result"
    }
   ],
   "source": [
    "sale.head()"
   ]
  },
  {
   "cell_type": "code",
   "execution_count": 16,
   "id": "008096d5-5e2f-4f78-abc4-2908507bb806",
   "metadata": {},
   "outputs": [
    {
     "name": "stdout",
     "output_type": "stream",
     "text": [
      "['Mumbai' 'Pune' 'New Delhi' 'Delhi' 'Bhopal' 'Chennai' 'Bangalore'\n",
      " 'Kolkata' 'Hyderabad' 'Ahmedabad' 'Surat' 'Kanpur' 'Goa' 'Indore']\n"
     ]
    }
   ],
   "source": [
    "a=sale['city'].unique()\n",
    "print(a)"
   ]
  },
  {
   "cell_type": "code",
   "execution_count": 17,
   "id": "c25ca3a1-4109-4510-b3e8-9579f6d03356",
   "metadata": {},
   "outputs": [],
   "source": [
    "sale.rename(columns={'Title (Address)': 'Address'}, inplace=True)\n",
    "sale.rename(columns={'Area (sq-ft)': 'Area'}, inplace=True)\n",
    "sale.rename(columns={'Price (Cr)': 'Price'}, inplace=True)\n"
   ]
  },
  {
   "cell_type": "code",
   "execution_count": 18,
   "id": "ee7db4f0-fdc8-4148-b216-f3186d460ff6",
   "metadata": {},
   "outputs": [
    {
     "data": {
      "text/html": [
       "<div>\n",
       "<style scoped>\n",
       "    .dataframe tbody tr th:only-of-type {\n",
       "        vertical-align: middle;\n",
       "    }\n",
       "\n",
       "    .dataframe tbody tr th {\n",
       "        vertical-align: top;\n",
       "    }\n",
       "\n",
       "    .dataframe thead th {\n",
       "        text-align: right;\n",
       "    }\n",
       "</style>\n",
       "<table border=\"1\" class=\"dataframe\">\n",
       "  <thead>\n",
       "    <tr style=\"text-align: right;\">\n",
       "      <th></th>\n",
       "      <th>Address</th>\n",
       "      <th>Area</th>\n",
       "      <th>Price</th>\n",
       "      <th>bhk</th>\n",
       "      <th>city</th>\n",
       "    </tr>\n",
       "  </thead>\n",
       "  <tbody>\n",
       "    <tr>\n",
       "      <th>0</th>\n",
       "      <td>Flat for Sale in Promont By Sheth Realty and A...</td>\n",
       "      <td>684.0</td>\n",
       "      <td>20700000</td>\n",
       "      <td>2</td>\n",
       "      <td>Mumbai</td>\n",
       "    </tr>\n",
       "    <tr>\n",
       "      <th>1</th>\n",
       "      <td>Flat for Sale in The Dynamix Luma, Andheri Eas...</td>\n",
       "      <td>735.0</td>\n",
       "      <td>25000000</td>\n",
       "      <td>2</td>\n",
       "      <td>Mumbai</td>\n",
       "    </tr>\n",
       "    <tr>\n",
       "      <th>2</th>\n",
       "      <td>Flat for Sale in Dream Aspire, Andheri West, M...</td>\n",
       "      <td>713.0</td>\n",
       "      <td>23800000</td>\n",
       "      <td>2</td>\n",
       "      <td>Mumbai</td>\n",
       "    </tr>\n",
       "    <tr>\n",
       "      <th>3</th>\n",
       "      <td>Flat for Sale in Vihang Luxuria, Mira Road Eas...</td>\n",
       "      <td>684.0</td>\n",
       "      <td>12100000</td>\n",
       "      <td>2</td>\n",
       "      <td>Mumbai</td>\n",
       "    </tr>\n",
       "    <tr>\n",
       "      <th>4</th>\n",
       "      <td>Flat for Sale in RNA NG Grand Empire, Navghar ...</td>\n",
       "      <td>580.0</td>\n",
       "      <td>11100000</td>\n",
       "      <td>2</td>\n",
       "      <td>Mumbai</td>\n",
       "    </tr>\n",
       "  </tbody>\n",
       "</table>\n",
       "</div>"
      ],
      "text/plain": [
       "                                             Address   Area     Price  bhk  \\\n",
       "0  Flat for Sale in Promont By Sheth Realty and A...  684.0  20700000    2   \n",
       "1  Flat for Sale in The Dynamix Luma, Andheri Eas...  735.0  25000000    2   \n",
       "2  Flat for Sale in Dream Aspire, Andheri West, M...  713.0  23800000    2   \n",
       "3  Flat for Sale in Vihang Luxuria, Mira Road Eas...  684.0  12100000    2   \n",
       "4  Flat for Sale in RNA NG Grand Empire, Navghar ...  580.0  11100000    2   \n",
       "\n",
       "     city  \n",
       "0  Mumbai  \n",
       "1  Mumbai  \n",
       "2  Mumbai  \n",
       "3  Mumbai  \n",
       "4  Mumbai  "
      ]
     },
     "execution_count": 18,
     "metadata": {},
     "output_type": "execute_result"
    }
   ],
   "source": [
    "sale.head()"
   ]
  },
  {
   "cell_type": "code",
   "execution_count": 19,
   "id": "f0b329b5-70c8-44be-8bc5-c26e02483a7a",
   "metadata": {},
   "outputs": [
    {
     "name": "stdout",
     "output_type": "stream",
     "text": [
      "Unique First Fields: ['Flat' 'Apartment' 'Builder' 'Villa' 'Penthouse' 'House']\n"
     ]
    }
   ],
   "source": [
    "sale['FirstField'] = sale['Address'].str.split(' ').str[0]\n",
    "\n",
    "unique_first_fields = sale['FirstField'].unique()\n",
    "\n",
    "print(\"Unique First Fields:\", unique_first_fields)\n"
   ]
  },
  {
   "cell_type": "code",
   "execution_count": 20,
   "id": "7f17d445-8f24-4a85-95b3-4d3e86b93b40",
   "metadata": {},
   "outputs": [],
   "source": [
    "sale.rename(columns={'FirstField': 'Property_Type'}, inplace=True)"
   ]
  },
  {
   "cell_type": "code",
   "execution_count": 21,
   "id": "c7618797-0064-4681-8c9d-ba7f19cda694",
   "metadata": {},
   "outputs": [
    {
     "data": {
      "text/html": [
       "<div>\n",
       "<style scoped>\n",
       "    .dataframe tbody tr th:only-of-type {\n",
       "        vertical-align: middle;\n",
       "    }\n",
       "\n",
       "    .dataframe tbody tr th {\n",
       "        vertical-align: top;\n",
       "    }\n",
       "\n",
       "    .dataframe thead th {\n",
       "        text-align: right;\n",
       "    }\n",
       "</style>\n",
       "<table border=\"1\" class=\"dataframe\">\n",
       "  <thead>\n",
       "    <tr style=\"text-align: right;\">\n",
       "      <th></th>\n",
       "      <th>Address</th>\n",
       "      <th>Area</th>\n",
       "      <th>Price</th>\n",
       "      <th>bhk</th>\n",
       "      <th>city</th>\n",
       "      <th>Property_Type</th>\n",
       "    </tr>\n",
       "  </thead>\n",
       "  <tbody>\n",
       "    <tr>\n",
       "      <th>0</th>\n",
       "      <td>Flat for Sale in Promont By Sheth Realty and A...</td>\n",
       "      <td>684.0</td>\n",
       "      <td>20700000</td>\n",
       "      <td>2</td>\n",
       "      <td>Mumbai</td>\n",
       "      <td>Flat</td>\n",
       "    </tr>\n",
       "    <tr>\n",
       "      <th>1</th>\n",
       "      <td>Flat for Sale in The Dynamix Luma, Andheri Eas...</td>\n",
       "      <td>735.0</td>\n",
       "      <td>25000000</td>\n",
       "      <td>2</td>\n",
       "      <td>Mumbai</td>\n",
       "      <td>Flat</td>\n",
       "    </tr>\n",
       "    <tr>\n",
       "      <th>2</th>\n",
       "      <td>Flat for Sale in Dream Aspire, Andheri West, M...</td>\n",
       "      <td>713.0</td>\n",
       "      <td>23800000</td>\n",
       "      <td>2</td>\n",
       "      <td>Mumbai</td>\n",
       "      <td>Flat</td>\n",
       "    </tr>\n",
       "    <tr>\n",
       "      <th>3</th>\n",
       "      <td>Flat for Sale in Vihang Luxuria, Mira Road Eas...</td>\n",
       "      <td>684.0</td>\n",
       "      <td>12100000</td>\n",
       "      <td>2</td>\n",
       "      <td>Mumbai</td>\n",
       "      <td>Flat</td>\n",
       "    </tr>\n",
       "    <tr>\n",
       "      <th>4</th>\n",
       "      <td>Flat for Sale in RNA NG Grand Empire, Navghar ...</td>\n",
       "      <td>580.0</td>\n",
       "      <td>11100000</td>\n",
       "      <td>2</td>\n",
       "      <td>Mumbai</td>\n",
       "      <td>Flat</td>\n",
       "    </tr>\n",
       "  </tbody>\n",
       "</table>\n",
       "</div>"
      ],
      "text/plain": [
       "                                             Address   Area     Price  bhk  \\\n",
       "0  Flat for Sale in Promont By Sheth Realty and A...  684.0  20700000    2   \n",
       "1  Flat for Sale in The Dynamix Luma, Andheri Eas...  735.0  25000000    2   \n",
       "2  Flat for Sale in Dream Aspire, Andheri West, M...  713.0  23800000    2   \n",
       "3  Flat for Sale in Vihang Luxuria, Mira Road Eas...  684.0  12100000    2   \n",
       "4  Flat for Sale in RNA NG Grand Empire, Navghar ...  580.0  11100000    2   \n",
       "\n",
       "     city Property_Type  \n",
       "0  Mumbai          Flat  \n",
       "1  Mumbai          Flat  \n",
       "2  Mumbai          Flat  \n",
       "3  Mumbai          Flat  \n",
       "4  Mumbai          Flat  "
      ]
     },
     "execution_count": 21,
     "metadata": {},
     "output_type": "execute_result"
    }
   ],
   "source": [
    "sale.head()"
   ]
  },
  {
   "cell_type": "code",
   "execution_count": 22,
   "id": "dcd24111-8189-4015-9944-fcd4e73b76fe",
   "metadata": {},
   "outputs": [],
   "source": [
    "# Model Training"
   ]
  },
  {
   "cell_type": "code",
   "execution_count": 23,
   "id": "2d219ee7-e038-4a79-9f94-87674690b467",
   "metadata": {},
   "outputs": [],
   "source": [
    "import pandas as pd\n",
    "import numpy as np\n",
    "from sklearn.model_selection import train_test_split\n",
    "from sklearn.preprocessing import LabelEncoder\n",
    "from sklearn.feature_extraction.text import TfidfVectorizer\n",
    "from sklearn.ensemble import RandomForestRegressor\n",
    "from sklearn.linear_model import LinearRegression\n",
    "from sklearn.tree import DecisionTreeRegressor\n",
    "from sklearn.metrics import mean_absolute_error, r2_score\n",
    "import pickle\n",
    "from flask import Flask, request, jsonify\n"
   ]
  },
  {
   "cell_type": "code",
   "execution_count": 24,
   "id": "797d131e-2d17-401e-b3b4-f8f80ddc71b5",
   "metadata": {},
   "outputs": [],
   "source": [
    "label_encoder_city = LabelEncoder()\n",
    "sale['city'] = label_encoder_city.fit_transform(sale['city'])\n",
    "\n",
    "label_encoder_property_type = LabelEncoder()\n",
    "sale['Property_Type'] = label_encoder_property_type.fit_transform(sale['Property_Type'])\n"
   ]
  },
  {
   "cell_type": "code",
   "execution_count": null,
   "id": "d3011bf7",
   "metadata": {},
   "outputs": [],
   "source": [
    "tfidf_vectorizer = TfidfVectorizer(max_features=100)\n",
    "address_tfidf = tfidf_vectorizer.fit_transform(sale['Address'])\n",
    "address_df = pd.DataFrame(address_tfidf.toarray(), columns=tfidf_vectorizer.get_feature_names_out())\n",
    "sale = pd.concat([sale, address_df], axis=1)\n"
   ]
  },
  {
   "cell_type": "code",
   "execution_count": null,
   "id": "6a702d81",
   "metadata": {},
   "outputs": [],
   "source": [
    "sale.drop(['Address'], axis=1, inplace=True)"
   ]
  },
  {
   "cell_type": "code",
   "execution_count": 25,
   "id": "c8ef6b3b-4ec1-40a8-9b79-2012d9a2a7be",
   "metadata": {},
   "outputs": [
    {
     "data": {
      "text/plain": [
       "(4800, 105)"
      ]
     },
     "execution_count": 25,
     "metadata": {},
     "output_type": "execute_result"
    }
   ],
   "source": [
    "sale.shape"
   ]
  },
  {
   "cell_type": "code",
   "execution_count": 26,
   "id": "3724d07d-52cc-4b62-91da-044c6371d755",
   "metadata": {},
   "outputs": [
    {
     "data": {
      "text/plain": [
       "Area             11\n",
       "Price            11\n",
       "bhk              11\n",
       "city             11\n",
       "Property_Type    11\n",
       "                 ..\n",
       "villa            11\n",
       "village          11\n",
       "wadala           11\n",
       "wakad            11\n",
       "west             11\n",
       "Length: 105, dtype: int64"
      ]
     },
     "execution_count": 26,
     "metadata": {},
     "output_type": "execute_result"
    }
   ],
   "source": [
    "sale.isnull().sum()"
   ]
  },
  {
   "cell_type": "code",
   "execution_count": 27,
   "id": "de298eb4-f2f3-42cf-8f2b-df99dc5c7cd9",
   "metadata": {},
   "outputs": [],
   "source": [
    "sale=sale.dropna()"
   ]
  },
  {
   "cell_type": "code",
   "execution_count": 28,
   "id": "e5590251-8606-4d01-adb8-ecc7c1b0868f",
   "metadata": {},
   "outputs": [
    {
     "data": {
      "text/plain": [
       "(4778, 105)"
      ]
     },
     "execution_count": 28,
     "metadata": {},
     "output_type": "execute_result"
    }
   ],
   "source": [
    "sale.shape"
   ]
  },
  {
   "cell_type": "code",
   "execution_count": 29,
   "id": "e22a8aca-2044-4120-8f1b-c50a2ab0f975",
   "metadata": {},
   "outputs": [
    {
     "name": "stdout",
     "output_type": "stream",
     "text": [
      "X shape: (4778, 104), y shape: (4778,)\n",
      "LinearRegression R² score: 0.3424\n",
      "RandomForestRegressor R² score: 0.5689\n",
      "DecisionTreeRegressor R² score: 0.4113\n",
      "Best model (RandomForestRegressor) saved as pickle file.\n",
      "Preprocessing and model training complete. Pickle files saved.\n"
     ]
    }
   ],
   "source": [
    "X = sale.drop('Price', axis=1)\n",
    "y = sale['Price']\n",
    "print(f\"X shape: {X.shape}, y shape: {y.shape}\")  \n",
    "\n",
    "X_train, X_test, y_train, y_test = train_test_split(X, y, test_size=0.2, random_state=42)\n",
    "\n",
    "# Train models\n",
    "models = {\n",
    "    \"LinearRegression\": LinearRegression(),\n",
    "    \"RandomForestRegressor\": RandomForestRegressor(n_estimators=100, random_state=42),\n",
    "    \"DecisionTreeRegressor\": DecisionTreeRegressor(random_state=42),\n",
    "}\n",
    "\n",
    "best_model = None\n",
    "best_score = -float('inf')  \n",
    "\n",
    "\n",
    "for name, model in models.items():\n",
    "    model.fit(X_train, y_train)\n",
    "    \n",
    "    r2 = model.score(X_test, y_test)\n",
    "    print(f\"{name} R² score: {r2:.4f}\")\n",
    "    \n",
    "    \n",
    "    if r2 > best_score:\n",
    "        best_score = r2\n",
    "        best_model = model\n",
    "\n",
    "# Save the best performing model\n",
    "with open(f'{best_model.__class__.__name__}_best_model.pkl', 'wb') as f:\n",
    "    pickle.dump(best_model, f)\n",
    "\n",
    "# Save LabelEncoders and TF-IDF Vectorizer\n",
    "with open('sale_label_encoder_city.pkl', 'wb') as f:\n",
    "    pickle.dump(label_encoder_city, f)\n",
    "\n",
    "with open('sale_label_encoder_property_type.pkl', 'wb') as f:\n",
    "    pickle.dump(label_encoder_property_type, f)\n",
    "\n",
    "with open('sale_tfidf_vectorizer.pkl', 'wb') as f:\n",
    "    pickle.dump(tfidf_vectorizer, f)\n",
    "\n",
    "print(f\"Best model ({best_model.__class__.__name__}) saved as pickle file.\")\n",
    "print(\"Preprocessing and model training complete. Pickle files saved.\")\n"
   ]
  },
  {
   "cell_type": "code",
   "execution_count": null,
   "id": "ac3d00fb-620b-413f-a964-cd65413981bc",
   "metadata": {},
   "outputs": [],
   "source": []
  }
 ],
 "metadata": {
  "kernelspec": {
   "display_name": "Python 3",
   "language": "python",
   "name": "python3"
  },
  "language_info": {
   "codemirror_mode": {
    "name": "ipython",
    "version": 3
   },
   "file_extension": ".py",
   "mimetype": "text/x-python",
   "name": "python",
   "nbconvert_exporter": "python",
   "pygments_lexer": "ipython3",
   "version": "3.11.4"
  }
 },
 "nbformat": 4,
 "nbformat_minor": 5
}
